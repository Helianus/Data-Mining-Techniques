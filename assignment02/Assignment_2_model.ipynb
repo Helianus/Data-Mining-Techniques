{
 "cells": [
  {
   "cell_type": "code",
   "execution_count": 1,
   "metadata": {},
   "outputs": [],
   "source": [
    "import numpy as np\n",
    "import pandas as pd\n",
    "import matplotlib.pyplot as plt\n",
    "import csv\n",
    "from sklearn.model_selection import train_test_split\n",
    "import classifier as cf\n",
    "import seaborn as sns\n",
    "sns.set_style(\"darkgrid\")"
   ]
  },
  {
   "cell_type": "code",
   "execution_count": 2,
   "metadata": {},
   "outputs": [],
   "source": [
    "traindata = pd.read_csv(\"data/processed_training_data.csv\")"
   ]
  },
  {
   "cell_type": "code",
   "execution_count": 3,
   "metadata": {},
   "outputs": [],
   "source": [
    "def give_score(row):\n",
    "    if row[\"booking_bool\"] > 0:\n",
    "        return int(5)\n",
    "    if row[\"click_bool\"] > 0:\n",
    "        return int(1)\n",
    "    return int(0)"
   ]
  },
  {
   "cell_type": "code",
   "execution_count": 4,
   "metadata": {},
   "outputs": [
    {
     "data": {
      "text/plain": [
       "5"
      ]
     },
     "execution_count": 4,
     "metadata": {},
     "output_type": "execute_result"
    }
   ],
   "source": [
    "traindata[\"score\"] = traindata.apply(give_score, axis=1)\n",
    "max(traindata[\"score\"])"
   ]
  },
  {
   "cell_type": "code",
   "execution_count": 5,
   "metadata": {},
   "outputs": [],
   "source": [
    "testdata = pd.read_csv(\"data/processed_testing_data.csv\")"
   ]
  },
  {
   "cell_type": "code",
   "execution_count": 6,
   "metadata": {},
   "outputs": [
    {
     "name": "stdout",
     "output_type": "stream",
     "text": [
      "Index(['Unnamed: 0', 'srch_id', 'date_time', 'site_id',\n",
      "       'visitor_location_country_id', 'prop_country_id', 'prop_id',\n",
      "       'prop_starrating', 'prop_review_score', 'prop_brand_bool',\n",
      "       'prop_location_score1', 'prop_log_historical_price', 'position',\n",
      "       'price_usd', 'promotion_flag', 'srch_destination_id',\n",
      "       'srch_length_of_stay', 'srch_booking_window', 'srch_adults_count',\n",
      "       'srch_children_count', 'srch_room_count', 'srch_saturday_night_bool',\n",
      "       'random_bool', 'click_bool', 'booking_bool', 'score'],\n",
      "      dtype='object')\n"
     ]
    }
   ],
   "source": [
    "print(traindata.columns)"
   ]
  },
  {
   "cell_type": "code",
   "execution_count": 7,
   "metadata": {},
   "outputs": [],
   "source": [
    "attrs = [\"prop_starrating\", \"prop_location_score1\", \"price_usd\"]\n",
    "y = traindata[\"score\"]\n",
    "X = traindata[attrs]\n",
    "flag = \"True\"\n",
    "Xtrain, Xtest, ytrain, ytest = train_test_split(X, y, random_state=101)"
   ]
  },
  {
   "cell_type": "code",
   "execution_count": 8,
   "metadata": {},
   "outputs": [
    {
     "name": "stdout",
     "output_type": "stream",
     "text": [
      "Gaussian Naive Bayes: cross vali score 0.9553722208485236 , accuracy score 0.9549873172058438\n"
     ]
    }
   ],
   "source": [
    "gnb = cf.gaussian_naive_bayes(Xtrain, Xtest, ytrain, ytest, flag)"
   ]
  },
  {
   "cell_type": "code",
   "execution_count": 9,
   "metadata": {},
   "outputs": [
    {
     "name": "stdout",
     "output_type": "stream",
     "text": [
      "Decision Tree: cross vali score 0.9394137529795956 , accuracy score 0.9394844596876148\n"
     ]
    }
   ],
   "source": [
    "dt = cf.decision_tree(Xtrain, Xtest, ytrain, ytest, flag)"
   ]
  },
  {
   "cell_type": "code",
   "execution_count": null,
   "metadata": {},
   "outputs": [],
   "source": [
    "knn = cf.k_nearest_neighbours(Xtrain, Xtest, ytrain, ytest, flag)"
   ]
  },
  {
   "cell_type": "code",
   "execution_count": null,
   "metadata": {},
   "outputs": [],
   "source": [
    "sgd = cf.stochastic_gradient_descent(Xtrain, Xtest, ytrain, ytest, flag)"
   ]
  },
  {
   "cell_type": "code",
   "execution_count": null,
   "metadata": {},
   "outputs": [],
   "source": [
    "#lr = cf.logistic_regression(Xtrain, Xtest, ytrain, ytest, flag)"
   ]
  }
 ],
 "metadata": {
  "kernelspec": {
   "display_name": "Python 3",
   "language": "python",
   "name": "python3"
  },
  "language_info": {
   "codemirror_mode": {
    "name": "ipython",
    "version": 3
   },
   "file_extension": ".py",
   "mimetype": "text/x-python",
   "name": "python",
   "nbconvert_exporter": "python",
   "pygments_lexer": "ipython3",
   "version": "3.7.9"
  }
 },
 "nbformat": 4,
 "nbformat_minor": 4
}
